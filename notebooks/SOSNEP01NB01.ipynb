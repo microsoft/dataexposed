{
    "metadata": {
        "kernelspec": {
            "name": "python3",
            "display_name": "Python 3",
            "language": "python"
        },
        "language_info": {
            "name": "python",
            "version": "3.9.1",
            "mimetype": "text/x-python",
            "codemirror_mode": {
                "name": "ipython",
                "version": 3
            },
            "pygments_lexer": "ipython3",
            "nbconvert_exporter": "python",
            "file_extension": ".py"
        }
    },
    "nbformat_minor": 2,
    "nbformat": 4,
    "cells": [
        {
            "cell_type": "markdown",
            "source": [
                "SOSNEP01NB01  \n",
                "\n",
                "<img src=\"https://raw.githubusercontent.com/microsoft/dataexposed/main/graphics/sosn-white-new-very-small.jpg\" alt=\"Logo\" height=\"150\">"
            ],
            "metadata": {
                "azdata_cell_guid": "5cd39845-9699-4a6b-895e-19a75e6f062d"
            }
        },
        {
            "cell_type": "markdown",
            "source": [
                "## Markov Chains and Coffee Time\n",
                "\n",
                "Markov chains are all about a set of outcomes that depend on the previous state, but not necessarily how you got there. Assume I start with Coffee. How often will I continue with Coffee, given I might switch to Tea?\n",
                "\n",
                "Let's say I just finished a cup of coffee. I would typically have another one (70% probability), but sometimes I switch to tea (30%).  On the other hand, if I just finished a cup of tea, I typically stick with that choice (60%), but do also switch to coffee some of the time (40%).\n",
                "\n",
                "![](data:image/png;base64,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)  \n",
                "\n",
                "Let's set my initial state, build a Transition Matrix and do the prediction:"
            ],
            "metadata": {
                "azdata_cell_guid": "e8fed3cb-77bf-4c53-b22c-05b43ec86af7"
            }
        },
        {
            "cell_type": "code",
            "source": [
                "import numpy as np\r\n",
                "\r\n",
                "# Let's say we just finished a cup of coffee\r\n",
                "T_0 = np.matrix([[1, 0]])\r\n",
                "\r\n",
                "# Matrix that defines the probability of having coffee and tea (columns), depending\r\n",
                "# on whether I just had coffee or tea (rows).\r\n",
                "T = np.matrix([[0.7, 0.3],\r\n",
                "               [0.6, 0.4]])\r\n",
                "\r\n",
                "T_1 = T_0 * T\r\n",
                "T_2 = T_1 * T\r\n",
                "T_3 = T_2 * T\r\n",
                "\r\n",
                "print(\"I just finished a cup of coffee.\")\r\n",
                "print(\"For cup number %d, the probabilities for having coffee or tea are %.1f%% and %.1f%%, respectively.\" % (2, T_1[0,0] * 100, T_1[0,1] * 100))\r\n",
                "print(\"For cup number %d, the probabilities for having coffee or tea are %.1f%% and %.1f%%, respectively.\" % (3, T_2[0,0] * 100, T_2[0,1] * 100))\r\n",
                "print(\"For cup number %d, the probabilities for having coffee or tea are %.1f%% and %.1f%%, respectively.\" % (4, T_3[0,0] * 100, T_3[0,1] * 100))"
            ],
            "metadata": {
                "azdata_cell_guid": "d20066b0-e126-4872-9dc0-99f50b13b67f"
            },
            "outputs": [
                {
                    "output_type": "stream",
                    "name": "stdout",
                    "text": "I just finished a cup of coffee.\nFor cup number 2, the probabilities for having coffee or tea are 70.0% and 30.0%, respectively.\nFor cup number 3, the probabilities for having coffee or tea are 67.0% and 33.0%, respectively.\nFor cup number 4, the probabilities for having coffee or tea are 66.7% and 33.3%, respectively.\n"
                }
            ],
            "execution_count": 12
        },
        {
            "cell_type": "markdown",
            "source": [
                "<span style=\"font-size: 14px;\">With Markov Chains, you can make predictions about future outcomes. I</span>f you know what the current state is (empty cup of coffee), you can make fairly precise estimates. If you only know the initial state (started with coffee), but you don't know the current state, you can still make a prediction about the next outcome, by taking the initial state into account, and repeatedly applying the transition probabilities.\n",
                "\n",
                "### Excercise:\n",
                "\n",
                "Let's say you meet me at a conference someday and I have a cup in my hand. Consider the following scenarios:\n",
                "\n",
                "1\\. I tell you I just finished my cup of coffee but I am still thirsty. What are the probabilities that I ask you to get me a coffee or to get me a tea?\n",
                "\n",
                "<span style=\"font-size: 14px;\">2. I tell you that my cup is empty, but I don't tell you what was in it. However, I do tell you that I had 3 cups of tea or coffee already, and my first cup was coffee. What is your guess then?</span>\n",
                "\n",
                "<span style=\"font-size: 14px;\">3. I tell you that I just finished a cup of coffee, that it was my 3rd cup of tea or coffee, and my first cup was coffee. What's your guess for what I'll have next?</span>"
            ],
            "metadata": {
                "azdata_cell_guid": "4986553a-db32-4627-a86b-13d1cf8315c8"
            }
        }
    ]
}